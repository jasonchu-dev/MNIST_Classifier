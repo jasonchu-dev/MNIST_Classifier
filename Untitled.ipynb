{
 "cells": [
  {
   "cell_type": "code",
   "execution_count": 1,
   "id": "1749039c-5869-4eed-876e-3bf21bc95673",
   "metadata": {},
   "outputs": [],
   "source": [
    "import pandas as pd\n",
    "import numpy as np\n",
    "import matplotlib.pyplot as plt\n",
    "from sklearn.model_selection import train_test_split\n",
    "\n",
    "# df = pd.read_csv('mnist.csv').sample(frac=1).reset_index(drop=True)\n",
    "df = pd.read_csv('mnist.csv')"
   ]
  },
  {
   "cell_type": "code",
   "execution_count": 2,
   "id": "96ed77f2-789f-41a0-b53f-351bcda49056",
   "metadata": {},
   "outputs": [],
   "source": [
    "X = df.iloc[:, 1:]\n",
    "y = df.iloc[:, 0]"
   ]
  },
  {
   "cell_type": "code",
   "execution_count": 3,
   "id": "7ec1eb21-20e5-41f0-816a-d8bdd0885a05",
   "metadata": {},
   "outputs": [],
   "source": [
    "X_train, X_test, y_train, y_test = train_test_split(X, y, test_size=0.2, random_state=42)\n",
    "\n",
    "X_train = np.array(X_train).T / 255\n",
    "y_train = np.array(y_train)"
   ]
  },
  {
   "cell_type": "code",
   "execution_count": 4,
   "id": "37f05991-0fa9-482d-993d-14c14903b8a4",
   "metadata": {},
   "outputs": [],
   "source": [
    "def init_params():\n",
    "    w1 = np.random.rand(10, 784) - 0.5\n",
    "    b1 = np.random.rand(10, 1) - 0.5\n",
    "    w2 = np.random.rand(10, 10) - 0.5\n",
    "    b2 = np.random.rand(10, 1) - 0.5\n",
    "    return w1, b1, w2, b2\n",
    "    \n",
    "def softmax(z):\n",
    "    return np.exp(z) / sum(np.exp(z))\n",
    "\n",
    "def one_hot(Y):\n",
    "    one_hot_Y = np.zeros((Y.size, Y.max() + 1))\n",
    "    one_hot_Y[np.arange(Y.size), Y] = 1\n",
    "    one_hot_Y = one_hot_Y.T\n",
    "    return one_hot_Y\n",
    "\n",
    "# def ReLU(x):\n",
    "#     return np.maximum(0, x)\n",
    "\n",
    "ReLU = lambda x: np.maximum(0, x)\n",
    "\n",
    "# def dReLU(x):\n",
    "#     # True = 1, False = 0\n",
    "#     # eg: True * 9 = 1 * 9 = 9\n",
    "#     return x > 0\n",
    "\n",
    "dReLU = lambda x: x > 0\n",
    "\n",
    "def accuracy(y_pred, y):\n",
    "    y_pred = np.argmax(y_pred, axis=0)\n",
    "    return np.sum(y_pred == y) / y.size"
   ]
  },
  {
   "cell_type": "code",
   "execution_count": 5,
   "id": "481aec31-5565-4509-a6d9-92c423e687e4",
   "metadata": {},
   "outputs": [],
   "source": [
    "def forward_prop(X, w1, b1, w2, b2):\n",
    "    h1 = w1.dot(X) + b1 # (10 x 784) * (784 x 56000) = 10 x 56000\n",
    "    a1 = ReLU(h1)\n",
    "    h2 = w2.dot(a1) + b2 # (10 x 10) * (10 x 56000) = 10 x 56000\n",
    "    y_pred = softmax(h2)\n",
    "    return h1, a1, h2, y_pred\n",
    "    \n",
    "def backprop(X, y, h1, a1, h2, y_pred, w1, b1, w2, b2):\n",
    "    dL_dh2 = y_pred - one_hot(y)\n",
    "    dL_dw2 = (1 / X.shape[1]) * dL_dh2.dot(a1.T)\n",
    "    dL_db2 = (1 / X.shape[1]) * np.sum(dL_dh2)\n",
    "    \n",
    "    dL_dh1 = w2.T.dot(dL_dh2) * dReLU(h1)\n",
    "    dL_dw1 = (1 / X.shape[1]) * dL_dh1.dot(X.T)\n",
    "    dL_db1 = (1 / X.shape[1]) * np.sum(dL_dh1)\n",
    "    \n",
    "    return dL_dw2, dL_db2, dL_dw1, dL_db1\n",
    "    \n",
    "def update(dL_dw2, dL_db2, dL_dw1, dL_db1, w2, b2, w1, b1, η):\n",
    "    w2 -= η * dL_dw2\n",
    "    b2 -= η * dL_db2\n",
    "    w1 -= η * dL_dw1\n",
    "    b1 -= η * dL_db1\n",
    "    return w2, b2, w1, b1"
   ]
  },
  {
   "cell_type": "code",
   "execution_count": 6,
   "id": "e36a17ae-14fd-4d23-84e7-0bcfe6143d70",
   "metadata": {},
   "outputs": [],
   "source": [
    "def gradient_descent(X, y, η, epochs, print_every=50):\n",
    "    w1, b1, w2, b2 = init_params()\n",
    "    for i in range(epochs + 1):\n",
    "        h1, a1, h2, y_pred = forward_prop(X, w1, b1, w2, b2)\n",
    "        dL_dw2, dL_db2, dL_dw1, dL_db1 = backprop(X, y, h1, a1, h2, y_pred, w1, b1, w2, b2)\n",
    "        w2, b2, w1, b1 = update(dL_dw2, dL_db2, dL_dw1, dL_db1, w2, b2, w1, b1, η)\n",
    "        if i % print_every == 0:\n",
    "            print(f'Epoch: {i}')\n",
    "            print(f'Accuracy:{accuracy(y_pred, y)}')\n",
    "    return w1, b1, w2, b2"
   ]
  },
  {
   "cell_type": "code",
   "execution_count": 7,
   "id": "ad9fd2d1-ff36-4413-ac0a-863dcc20d3dd",
   "metadata": {},
   "outputs": [
    {
     "name": "stdout",
     "output_type": "stream",
     "text": [
      "Epoch: 0\n",
      "Accuracy:0.11041071428571429\n",
      "Epoch: 50\n",
      "Accuracy:0.4009285714285714\n",
      "Epoch: 100\n",
      "Accuracy:0.5483392857142857\n",
      "Epoch: 150\n",
      "Accuracy:0.6363571428571428\n",
      "Epoch: 200\n",
      "Accuracy:0.6951785714285714\n",
      "Epoch: 250\n",
      "Accuracy:0.7415178571428571\n",
      "Epoch: 300\n",
      "Accuracy:0.77325\n",
      "Epoch: 350\n",
      "Accuracy:0.7960892857142857\n",
      "Epoch: 400\n",
      "Accuracy:0.813125\n",
      "Epoch: 450\n",
      "Accuracy:0.8260892857142857\n",
      "Epoch: 500\n",
      "Accuracy:0.8359821428571429\n"
     ]
    }
   ],
   "source": [
    "w1, b1, w2, b2 = gradient_descent(X_train, y_train, 0.1, 500)"
   ]
  },
  {
   "attachments": {},
   "cell_type": "markdown",
   "id": "54388025-23b2-43f8-8a30-30ca02c8a6c1",
   "metadata": {
    "tags": []
   },
   "source": [
    "## Testing"
   ]
  },
  {
   "cell_type": "code",
   "execution_count": 8,
   "id": "21781dba-14bc-47ff-acc0-91e8d4802132",
   "metadata": {},
   "outputs": [
    {
     "data": {
      "text/plain": [
       "0.8374285714285714"
      ]
     },
     "execution_count": 8,
     "metadata": {},
     "output_type": "execute_result"
    }
   ],
   "source": [
    "data = np.array(X_test).T / 255\n",
    "\n",
    "_, _, _, prediction = forward_prop(data, w1, b1, w2, b2)\n",
    "accuracy(prediction, y_test)"
   ]
  },
  {
   "cell_type": "code",
   "execution_count": 9,
   "id": "98e0b69d-025b-48da-b8df-d276f2899d2a",
   "metadata": {
    "tags": []
   },
   "outputs": [],
   "source": [
    "# b = pd.DataFrame(np.array(data).reshape(28, 28))\n",
    "\n",
    "# from IPython.display import display, HTML\n",
    "# display(HTML(\"<style>.container { width:200% !important; }</style>\"))\n",
    "\n",
    "# np.set_printoptions(linewidth=110)\n",
    "# with pd.option_context('display.max_rows', None,\n",
    "#                        'display.max_columns', None,\n",
    "#                        'display.precision', 3,\n",
    "#                        ): print(b)\n",
    "# print(label)"
   ]
  },
  {
   "cell_type": "code",
   "execution_count": 20,
   "id": "54e987fa-41b5-4340-9420-58bdbe59cfc4",
   "metadata": {},
   "outputs": [
    {
     "name": "stdout",
     "output_type": "stream",
     "text": [
      "Number: 8\n",
      "Prediction:\n"
     ]
    },
    {
     "data": {
      "image/png": "[encoded data removed]",
      "text/plain": [
       "<Figure size 432x288 with 1 Axes>"
      ]
     },
     "metadata": {
      "needs_background": "light"
     },
     "output_type": "display_data"
    }
   ],
   "source": [
    "num = np.random.randint(9)\n",
    "for _, data in X_test.sample(frac=1).iterrows():\n",
    "    # data needs to be array([93847]\n",
    "    #                        [54985]\n",
    "    #                        [82334]\n",
    "    #                           .\n",
    "    #                           .\n",
    "    #                           .)\n",
    "    # Transpose will not work\n",
    "    # img_with_num.iloc[:, 1:] = array([345, 5645, 243, ...]): shape is (784, )\n",
    "    # change data into np array and reshape to (784, 1)\n",
    "\n",
    "    data = np.array(data).reshape(784, 1) / 255\n",
    "    _, _, _, prediction = forward_prop(data, w1, b1, w2, b2)\n",
    "    prediction = np.argmax(prediction, axis=0)\n",
    "    if prediction == num: break\n",
    "        \n",
    "data = data.reshape(28, 28)\n",
    "\n",
    "plt.imshow(data)\n",
    "print(f'Number: {num}')\n",
    "print(f'Prediction:')"
   ]
  },
  {
   "cell_type": "code",
   "execution_count": 26,
   "id": "2a779df8-c59b-4051-a1b6-c0930c1ec6e4",
   "metadata": {},
   "outputs": [
    {
     "name": "stdout",
     "output_type": "stream",
     "text": [
      "Prediction: [9]\n",
      "Input:\n"
     ]
    },
    {
     "data": {
      "image/png": "[encoded data removed]",
      "text/plain": [
       "<Figure size 432x288 with 1 Axes>"
      ]
     },
     "metadata": {
      "needs_background": "light"
     },
     "output_type": "display_data"
    }
   ],
   "source": [
    "rand_img = np.random.randint(X_test.shape[0])\n",
    "img = X_test.iloc[rand_img]\n",
    "img = np.array(img).reshape(784, 1) / 255\n",
    "\n",
    "_, _, _, prediction = forward_prop(img, w1, b1, w2, b2)\n",
    "prediction = np.argmax(prediction, axis=0)\n",
    "\n",
    "img = img.reshape(28, 28)\n",
    "plt.imshow(img)\n",
    "print(f'Prediction: {prediction}')\n",
    "print(f'Input:')"
   ]
  }
 ],
 "metadata": {
  "kernelspec": {
   "display_name": "Python 3 (ipykernel)",
   "language": "python",
   "name": "python3"
  },
  "language_info": {
   "codemirror_mode": {
    "name": "ipython",
    "version": 3
   },
   "file_extension": ".py",
   "mimetype": "text/x-python",
   "name": "python",
   "nbconvert_exporter": "python",
   "pygments_lexer": "ipython3",
   "version": "3.9.12"
  }
 },
 "nbformat": 4,
 "nbformat_minor": 5
}
